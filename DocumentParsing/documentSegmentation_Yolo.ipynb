{
 "cells": [
  {
   "cell_type": "code",
   "execution_count": null,
   "metadata": {},
   "outputs": [
    {
     "name": "stdout",
     "output_type": "stream",
     "text": [
      "Converting PDF to images...\n"
     ]
    }
   ],
   "source": [
    "from ultralytics import YOLO\n",
    "from PIL import Image\n",
    "from pdf2image import convert_from_path\n",
    "from io import BytesIO\n",
    "import pathlib\n",
    "import os\n",
    "\n",
    "# Path to the input PDF\n",
    "pdf_path = 'STANDARD GLASS_Price Band Ad_Material.pdf'\n",
    "\n",
    "# Convert PDF pages to images with lower dpi to reduce memory usage\n",
    "print(\"Converting PDF to images...\")\n",
    "pdf_images = convert_from_path(pdf_path, dpi=150)\n",
    "\n",
    "# Process images in memory using BytesIO instead of saving to disk\n",
    "temp_images = []\n",
    "for page in pdf_images:\n",
    "    img_bytes = BytesIO()\n",
    "    page.save(img_bytes, format='PNG')\n",
    "    temp_images.append(img_bytes.getvalue())\n",
    "\n",
    "# Load the document segmentation model\n",
    "print(\"Loading YOLO model...\")\n",
    "docseg_model = YOLO('yolov8x-doclaynet-epoch64-imgsz640-initiallr1e-4-finallr1e-5.pt').to('cpu')\n",
    "\n",
    "# Initialize a dictionary to store results\n",
    "mydict = {}\n",
    "\n",
    "# Process images in batches to avoid memory overflow\n",
    "batch_size = 1\n",
    "print(\"Processing images with YOLO...\")\n",
    "for i in range(0, len(temp_images), batch_size):\n",
    "    batch = temp_images[i:i + batch_size]\n",
    "\n",
    "    # Save batch to temporary files (YOLO requires file paths)\n",
    "    batch_paths = []\n",
    "    for idx, img_data in enumerate(batch):\n",
    "        img_path = f'temp_page_{i + idx + 1}.png'\n",
    "        with open(img_path, 'wb') as f:\n",
    "            f.write(img_data)\n",
    "        batch_paths.append(img_path)\n",
    "\n",
    "    # Process batch with YOLO\n",
    "    results = docseg_model(source=batch_paths, save=True, show_labels=True, show_conf=True, boxes=True)\n",
    "\n",
    "    # Extract and store results\n",
    "    for entry in results:\n",
    "        thepath = pathlib.Path(entry.path)\n",
    "        thecoords = entry.boxes.xyxy.numpy() if entry.boxes else []\n",
    "        mydict.update({str(thepath): thecoords})\n",
    "\n",
    "    # Remove temporary files after processing\n",
    "    for img_path in batch_paths:\n",
    "        os.remove(img_path)\n",
    "\n",
    "# Output the results\n",
    "print(\"Processed results:\")\n",
    "for path, coords in mydict.items():\n",
    "    print(f\"Path: {path}\")\n",
    "    print(\"Coordinates:\", coords)\n"
   ]
  },
  {
   "cell_type": "code",
   "execution_count": null,
   "metadata": {},
   "outputs": [],
   "source": []
  }
 ],
 "metadata": {
  "kernelspec": {
   "display_name": "base",
   "language": "python",
   "name": "python3"
  },
  "language_info": {
   "codemirror_mode": {
    "name": "ipython",
    "version": 3
   },
   "file_extension": ".py",
   "mimetype": "text/x-python",
   "name": "python",
   "nbconvert_exporter": "python",
   "pygments_lexer": "ipython3",
   "version": "3.12.2"
  }
 },
 "nbformat": 4,
 "nbformat_minor": 2
}
