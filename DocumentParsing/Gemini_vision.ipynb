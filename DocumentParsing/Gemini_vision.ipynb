{
 "cells": [
  {
   "cell_type": "code",
   "execution_count": 1,
   "metadata": {},
   "outputs": [
    {
     "name": "stderr",
     "output_type": "stream",
     "text": [
      "/home/yash/miniconda3/lib/python3.12/site-packages/tqdm/auto.py:21: TqdmWarning: IProgress not found. Please update jupyter and ipywidgets. See https://ipywidgets.readthedocs.io/en/stable/user_install.html\n",
      "  from .autonotebook import tqdm as notebook_tqdm\n"
     ]
    },
    {
     "name": "stdout",
     "output_type": "stream",
     "text": [
      "Processed page 1 and saved to GeminiVisionResult/STANDARD GLASS_Price Band Ad_Material_1.txt\n",
      "Processed page 2 and saved to GeminiVisionResult/STANDARD GLASS_Price Band Ad_Material_2.txt\n",
      "Processed page 3 and saved to GeminiVisionResult/STANDARD GLASS_Price Band Ad_Material_3.txt\n",
      "Processed page 4 and saved to GeminiVisionResult/STANDARD GLASS_Price Band Ad_Material_4.txt\n",
      "Processed page 5 and saved to GeminiVisionResult/STANDARD GLASS_Price Band Ad_Material_5.txt\n"
     ]
    }
   ],
   "source": [
    "import PIL.Image\n",
    "import os\n",
    "import google.generativeai as genai\n",
    "from pdf2image import convert_from_path\n",
    "\n",
    "# Replace with your API key\n",
    "GOOGLE_API_KEY = \"\" \n",
    "\n",
    "genai.configure(api_key=GOOGLE_API_KEY)\n",
    "\n",
    "pdf_path = \"STANDARD GLASS_Price Band Ad_Material.pdf\"\n",
    "pdf_name = os.path.splitext(os.path.basename(pdf_path))[0]\n",
    "\n",
    "# Create the output directory if it doesn't exist\n",
    "output_dir = \"GeminiVisionResult\"\n",
    "os.makedirs(output_dir, exist_ok=True)\n",
    "\n",
    "# Choose a Gemini model.\n",
    "model = genai.GenerativeModel(model_name=\"gemini-1.5-pro\")\n",
    "\n",
    "prompt = \"\"\"\n",
    "    Extract all text content and tabular data from this image, strictly preserving the original reading order as they appear on the page.\n",
    "\n",
    "    1. **Reading Order:** Process the content strictly based on the reading order within the image. Do not rearrange or reorder blocks or tables.\n",
    "\n",
    "    2. **Text Blocks:** Extract distinct blocks of text and represent each block as a separate entity, separated by double newlines (\"\\\\n\\\\n\").\n",
    "\n",
    "    3. **Tables:** Identify any tables present in the image. For each table, output it in a structured, comma-separated format (.csv). Each row of the table should be on a new line, with commas separating column values.\n",
    "        - Include the header row, if present.\n",
    "        - Ensure that all columns of each row are comma separated values.\n",
    "\n",
    "    4. **Output Format:**\n",
    "        - Output text blocks and tables in the order they are read on the page. When a table is encountered while reading the page, output it in CSV format at that point in the output.\n",
    "\n",
    "    5. If there are no text or no tables return empty string.\n",
    "\n",
    "     If the table contains only one row, then return text of that row separated by comma.\n",
    "    \"\"\"\n",
    "\n",
    "try:\n",
    "    # Convert all pages of the PDF to PIL image objects\n",
    "    images = convert_from_path(pdf_path)\n",
    "    \n",
    "    if not images:\n",
    "        raise FileNotFoundError(f\"Could not convert the PDF to images\")\n",
    "\n",
    "    for i, img in enumerate(images):\n",
    "        page_number = i + 1\n",
    "        output_file_path = os.path.join(output_dir, f\"{pdf_name}_{page_number}.txt\")\n",
    "        \n",
    "        try:\n",
    "           response = model.generate_content([prompt, img], generation_config={\"max_output_tokens\": 4096})\n",
    "           response.resolve()\n",
    "\n",
    "           with open(output_file_path, \"w\", encoding=\"utf-8\") as f:\n",
    "              f.write(response.text)\n",
    "\n",
    "           print(f\"Processed page {page_number} and saved to {output_file_path}\")\n",
    "        \n",
    "        except Exception as page_err:\n",
    "           print(f\"Error processing page {page_number}: {page_err}\")\n",
    "           with open(output_file_path, \"w\", encoding=\"utf-8\") as f:\n",
    "              f.write(f\"Error: An error occurred during processing of page {page_number} : {page_err}\")\n",
    "\n",
    "except FileNotFoundError as e:\n",
    "    print(f\"Error: Could not find file: {e}\")\n",
    "except Exception as e:\n",
    "    print(f\"Error: An error occurred during processing: {e}\")"
   ]
  },
  {
   "cell_type": "code",
   "execution_count": null,
   "metadata": {},
   "outputs": [],
   "source": []
  }
 ],
 "metadata": {
  "kernelspec": {
   "display_name": "base",
   "language": "python",
   "name": "python3"
  },
  "language_info": {
   "codemirror_mode": {
    "name": "ipython",
    "version": 3
   },
   "file_extension": ".py",
   "mimetype": "text/x-python",
   "name": "python",
   "nbconvert_exporter": "python",
   "pygments_lexer": "ipython3",
   "version": "3.12.2"
  }
 },
 "nbformat": 4,
 "nbformat_minor": 2
}
