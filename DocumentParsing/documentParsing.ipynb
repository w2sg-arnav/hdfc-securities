{
  "nbformat": 4,
  "nbformat_minor": 0,
  "metadata": {
    "colab": {
      "provenance": []
    },
    "kernelspec": {
      "name": "python3",
      "display_name": "Python 3"
    },
    "language_info": {
      "name": "python"
    }
  },
  "cells": [
    {
      "cell_type": "code",
      "source": [
        "!pip install PyMuPDF\n",
        "!pip install python-doctr\n",
        "!pip install tf2onnx"
      ],
      "metadata": {
        "colab": {
          "base_uri": "https://localhost:8080/"
        },
        "id": "CoDKkw701WwO",
        "outputId": "87d69b69-bf36-4cca-bd46-538279f45652"
      },
      "execution_count": 1,
      "outputs": [
        {
          "output_type": "stream",
          "name": "stdout",
          "text": [
            "Requirement already satisfied: PyMuPDF in /usr/local/lib/python3.10/dist-packages (1.25.1)\n",
            "Requirement already satisfied: python-doctr in /usr/local/lib/python3.10/dist-packages (0.10.0)\n",
            "Requirement already satisfied: numpy<3.0.0,>=1.16.0 in /usr/local/lib/python3.10/dist-packages (from python-doctr) (1.26.4)\n",
            "Requirement already satisfied: scipy<2.0.0,>=1.4.0 in /usr/local/lib/python3.10/dist-packages (from python-doctr) (1.13.1)\n",
            "Requirement already satisfied: h5py<4.0.0,>=3.1.0 in /usr/local/lib/python3.10/dist-packages (from python-doctr) (3.12.1)\n",
            "Requirement already satisfied: opencv-python<5.0.0,>=4.5.0 in /usr/local/lib/python3.10/dist-packages (from python-doctr) (4.10.0.84)\n",
            "Requirement already satisfied: pypdfium2<5.0.0,>=4.11.0 in /usr/local/lib/python3.10/dist-packages (from python-doctr) (4.30.1)\n",
            "Requirement already satisfied: pyclipper<2.0.0,>=1.2.0 in /usr/local/lib/python3.10/dist-packages (from python-doctr) (1.3.0.post6)\n",
            "Requirement already satisfied: shapely<3.0.0,>=1.6.0 in /usr/local/lib/python3.10/dist-packages (from python-doctr) (2.0.6)\n",
            "Requirement already satisfied: langdetect<2.0.0,>=1.0.9 in /usr/local/lib/python3.10/dist-packages (from python-doctr) (1.0.9)\n",
            "Requirement already satisfied: rapidfuzz<4.0.0,>=3.0.0 in /usr/local/lib/python3.10/dist-packages (from python-doctr) (3.11.0)\n",
            "Requirement already satisfied: huggingface-hub<1.0.0,>=0.20.0 in /usr/local/lib/python3.10/dist-packages (from python-doctr) (0.27.0)\n",
            "Requirement already satisfied: Pillow>=9.2.0 in /usr/local/lib/python3.10/dist-packages (from python-doctr) (11.0.0)\n",
            "Requirement already satisfied: defusedxml>=0.7.0 in /usr/local/lib/python3.10/dist-packages (from python-doctr) (0.7.1)\n",
            "Requirement already satisfied: anyascii>=0.3.2 in /usr/local/lib/python3.10/dist-packages (from python-doctr) (0.3.2)\n",
            "Requirement already satisfied: tqdm>=4.30.0 in /usr/local/lib/python3.10/dist-packages (from python-doctr) (4.67.1)\n",
            "Requirement already satisfied: filelock in /usr/local/lib/python3.10/dist-packages (from huggingface-hub<1.0.0,>=0.20.0->python-doctr) (3.16.1)\n",
            "Requirement already satisfied: fsspec>=2023.5.0 in /usr/local/lib/python3.10/dist-packages (from huggingface-hub<1.0.0,>=0.20.0->python-doctr) (2024.10.0)\n",
            "Requirement already satisfied: packaging>=20.9 in /usr/local/lib/python3.10/dist-packages (from huggingface-hub<1.0.0,>=0.20.0->python-doctr) (24.2)\n",
            "Requirement already satisfied: pyyaml>=5.1 in /usr/local/lib/python3.10/dist-packages (from huggingface-hub<1.0.0,>=0.20.0->python-doctr) (6.0.2)\n",
            "Requirement already satisfied: requests in /usr/local/lib/python3.10/dist-packages (from huggingface-hub<1.0.0,>=0.20.0->python-doctr) (2.32.3)\n",
            "Requirement already satisfied: typing-extensions>=3.7.4.3 in /usr/local/lib/python3.10/dist-packages (from huggingface-hub<1.0.0,>=0.20.0->python-doctr) (4.12.2)\n",
            "Requirement already satisfied: six in /usr/local/lib/python3.10/dist-packages (from langdetect<2.0.0,>=1.0.9->python-doctr) (1.17.0)\n",
            "Requirement already satisfied: charset-normalizer<4,>=2 in /usr/local/lib/python3.10/dist-packages (from requests->huggingface-hub<1.0.0,>=0.20.0->python-doctr) (3.4.0)\n",
            "Requirement already satisfied: idna<4,>=2.5 in /usr/local/lib/python3.10/dist-packages (from requests->huggingface-hub<1.0.0,>=0.20.0->python-doctr) (3.10)\n",
            "Requirement already satisfied: urllib3<3,>=1.21.1 in /usr/local/lib/python3.10/dist-packages (from requests->huggingface-hub<1.0.0,>=0.20.0->python-doctr) (2.2.3)\n",
            "Requirement already satisfied: certifi>=2017.4.17 in /usr/local/lib/python3.10/dist-packages (from requests->huggingface-hub<1.0.0,>=0.20.0->python-doctr) (2024.12.14)\n",
            "Requirement already satisfied: tf2onnx in /usr/local/lib/python3.10/dist-packages (1.16.1)\n",
            "Requirement already satisfied: numpy>=1.14.1 in /usr/local/lib/python3.10/dist-packages (from tf2onnx) (1.26.4)\n",
            "Requirement already satisfied: onnx>=1.4.1 in /usr/local/lib/python3.10/dist-packages (from tf2onnx) (1.17.0)\n",
            "Requirement already satisfied: requests in /usr/local/lib/python3.10/dist-packages (from tf2onnx) (2.32.3)\n",
            "Requirement already satisfied: six in /usr/local/lib/python3.10/dist-packages (from tf2onnx) (1.17.0)\n",
            "Requirement already satisfied: flatbuffers>=1.12 in /usr/local/lib/python3.10/dist-packages (from tf2onnx) (24.3.25)\n",
            "Requirement already satisfied: protobuf~=3.20 in /usr/local/lib/python3.10/dist-packages (from tf2onnx) (3.20.3)\n",
            "Requirement already satisfied: charset-normalizer<4,>=2 in /usr/local/lib/python3.10/dist-packages (from requests->tf2onnx) (3.4.0)\n",
            "Requirement already satisfied: idna<4,>=2.5 in /usr/local/lib/python3.10/dist-packages (from requests->tf2onnx) (3.10)\n",
            "Requirement already satisfied: urllib3<3,>=1.21.1 in /usr/local/lib/python3.10/dist-packages (from requests->tf2onnx) (2.2.3)\n",
            "Requirement already satisfied: certifi>=2017.4.17 in /usr/local/lib/python3.10/dist-packages (from requests->tf2onnx) (2024.12.14)\n"
          ]
        }
      ]
    },
    {
      "cell_type": "code",
      "execution_count": 4,
      "metadata": {
        "colab": {
          "base_uri": "https://localhost:8080/"
        },
        "id": "R3rMWVsb1MRh",
        "outputId": "6b73dba6-8fe3-4031-ecd2-7742b52c1219"
      },
      "outputs": [
        {
          "output_type": "stream",
          "name": "stdout",
          "text": [
            "Its a Scanned PDF, running OCR.\n"
          ]
        },
        {
          "output_type": "stream",
          "name": "stderr",
          "text": [
            "WARNING:tensorflow:Model's `__init__()` arguments contain non-serializable objects. Please implement a `get_config()` method in the subclassed Model for proper saving and loading. Defaulting to empty config.\n",
            "WARNING:tensorflow:Model's `__init__()` arguments contain non-serializable objects. Please implement a `get_config()` method in the subclassed Model for proper saving and loading. Defaulting to empty config.\n",
            "WARNING:tensorflow:Model's `__init__()` arguments contain non-serializable objects. Please implement a `get_config()` method in the subclassed Model for proper saving and loading. Defaulting to empty config.\n",
            "WARNING:tensorflow:Model's `__init__()` arguments contain non-serializable objects. Please implement a `get_config()` method in the subclassed Model for proper saving and loading. Defaulting to empty config.\n"
          ]
        },
        {
          "output_type": "stream",
          "name": "stdout",
          "text": [
            "Successfully extracted text from 'test.pdf' and saved to 'output.json'.\n"
          ]
        }
      ],
      "source": [
        "import fitz\n",
        "import json\n",
        "from pathlib import Path\n",
        "from doctr.io import DocumentFile\n",
        "from doctr.models import ocr_predictor\n",
        "import warnings\n",
        "\n",
        "!export CUDA_VISIBLE_DEVICES=\"\"\n",
        "warnings.filterwarnings(\"ignore\")\n",
        "\n",
        "def extract_text_from_pdf(pdf_path: Path) -> dict:\n",
        "    \"\"\"\n",
        "    Extracts text from a PDF file, page by page, using fitz first. If fitz\n",
        "    extracts less than 10 words on average per page, it falls back to doctr.\n",
        "\n",
        "    Args:\n",
        "      pdf_path: Path to the input PDF file.\n",
        "\n",
        "    Returns:\n",
        "      A dictionary where keys are page numbers (starting from 1) and values are the\n",
        "      extracted text from that page.\n",
        "      Returns an empty dictionary if both fitz and doctr fail\n",
        "    \"\"\"\n",
        "\n",
        "    try:\n",
        "        pdf_document = fitz.open(pdf_path)\n",
        "        if not pdf_document:\n",
        "            return {}  # return empty if the pdf doc is empty\n",
        "\n",
        "        page_text = {}\n",
        "        total_words = 0\n",
        "        all_text_extracted = True\n",
        "\n",
        "        for page_number in range(pdf_document.page_count):\n",
        "            page = pdf_document[page_number]\n",
        "            text = page.get_text()\n",
        "            if not text.strip():\n",
        "              all_text_extracted = False\n",
        "              break # Stop extraction with fitz if a page is empty\n",
        "            word_count = len(text.split())\n",
        "            total_words += word_count\n",
        "            page_text[page_number + 1] = text  # Page numbers start from 1\n",
        "\n",
        "\n",
        "        pdf_document.close()\n",
        "\n",
        "        if all_text_extracted and page_text and total_words / len(page_text) >= 10:\n",
        "             return page_text\n",
        "\n",
        "        # If a Scanned PDF\n",
        "        print(\"Its a Scanned PDF, running OCR.\")\n",
        "\n",
        "        doc = DocumentFile.from_pdf(str(pdf_path))\n",
        "        model = ocr_predictor(pretrained=True) # This is where the model is being created\n",
        "        result = model(doc)\n",
        "\n",
        "        page_text_doctr = {}\n",
        "        for idx, page in enumerate(result.pages):\n",
        "            text_content = \"\"\n",
        "            for block in page.blocks:\n",
        "                for line in block.lines:\n",
        "                    for word in line.words:\n",
        "                        text_content += word.value + \" \"\n",
        "                text_content += \"\\n\"  # Add a new line after each block\n",
        "            page_text_doctr[idx + 1] = text_content.strip() #remove trailing spaces\n",
        "        return page_text_doctr\n",
        "\n",
        "    except Exception as e:\n",
        "        print(f\"An error occurred: {e}\")\n",
        "        return {}\n",
        "\n",
        "\n",
        "def save_to_json(data: dict, output_path: Path):\n",
        "    \"\"\"\n",
        "    Saves extracted PDF text data to a JSON file.\n",
        "\n",
        "    Args:\n",
        "      data: The dictionary containing the extracted text.\n",
        "      output_path: The path where to save the json file.\n",
        "    \"\"\"\n",
        "    try:\n",
        "        with open(output_path, \"w\", encoding=\"utf-8\") as json_file:\n",
        "            json.dump(data, json_file, indent=4, ensure_ascii=False)\n",
        "    except Exception as e:\n",
        "        print(f\"Error saving to JSON: {e}\")\n",
        "\n",
        "\n",
        "if __name__ == '__main__':\n",
        "    pdf_file_path = Path(\"test.pdf\")  # Replace with the actual path to your PDF file\n",
        "    output_json_path = Path(\"output.json\")\n",
        "\n",
        "    extracted_text = extract_text_from_pdf(pdf_file_path)\n",
        "\n",
        "    if extracted_text:\n",
        "       save_to_json(extracted_text, output_json_path)\n",
        "       print(f\"Successfully extracted text from '{pdf_file_path}' and saved to '{output_json_path}'.\")\n",
        "    else:\n",
        "        print(\"Failed to extract text from the PDF or PDF is empty.\")"
      ]
    },
    {
      "cell_type": "code",
      "source": [],
      "metadata": {
        "id": "iW48OZoP3uw6"
      },
      "execution_count": null,
      "outputs": []
    }
  ]
}